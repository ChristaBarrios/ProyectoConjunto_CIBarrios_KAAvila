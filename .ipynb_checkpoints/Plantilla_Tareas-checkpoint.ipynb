{
 "cells": [
  {
   "cell_type": "markdown",
   "metadata": {},
   "source": [
    "<img style=\"float: left; margin: 30px 15px 15px 15px;\" src=\"https://encrypted-tbn0.gstatic.com/images?q=tbn:ANd9GcTFzQj91sOlkeDFkg5HDbjtR4QJYmLXkfMNig&usqp=CAU\" width=\"400\" height=\"500\" /> \n",
    "    \n",
    "    \n",
    "### <font color='navy'> Modelos no lineales para pronósticos. \n",
    "\n",
    "**Nombres:** CHRISTA ITZEL BARRIOS MARTINEZ\n",
    "\n",
    "**Fecha:** 28 de enero del 2024\n",
    "\n",
    "**Expediente** : 739328.\n",
    "    \n",
    "**Profesor:** Oscar David Jaramillo Zuluaga.\n",
    "    \n",
    "**Link Github**: Link con el enlace del repositorio del creador del proyecto\n",
    "\n",
    "# Tarea 1: Clase 2"
   ]
  },
  {
   "cell_type": "markdown",
   "metadata": {},
   "source": [
    "## Enunciado de tarea (Transcibirlo)\n",
    "> Fecha de entrega: Martes 30 de enero.\n",
    "Recuerden que en canvas se encuntra el archivo Plantilla tareas, en donde deben de solucionar todas sus tareas.\n",
    "Este archivo contiene las pautas necesarias para crear el archivo conjunto en Github, usando los notebooks de Jupyter:\n",
    "\n",
    "El archivo debe realizarse en parejas y sólo uno de los dos debe crear en su cuenta de Github un repositorio con el nombre ProyectoConjunto_APELLIDO1_APELLIDO2. A la persona que creó el repositorio la llamaremos (ESTUDIANTE 1 ). El APELLIDO se debe de escribir (Iniciales del nombre y primer apellido), por ejemplo si yo creara el archivo lo debería de nombrar ProyectoConjunto_ODJaramillo.\n",
    "Posteriormente, desde la cuenta del (ESTUDIANTE 2), 'aquel que no creó el repositorio anterior', ingresar al perfil del ESTUDIANTE 1 y en el repositorio creado en el paso 1, realizar un \"fork\" de este repositorio en su perfil, y además realizar los pasos en Gitkraken para hacer dicho repositorio \"Remoto (REMOTE)\" VER DICHO PROCEDIMIENTO EN LA CLASE Clase2_GitTurorial2.\n",
    "Luego de realizados los pasos 1 y 2, el ESTUDIANTE 1 y ESTUDIANTE 2, desde su computador realizar un clone del repositorio creado en el numeral 1 en la carpeta que cada quién haya asignado para el curso en su computador.\n",
    "Luego desde Jupyter el ESTUDIANTE 1, crea un nuevo notebook en el repositorio del paso 3.\n",
    "En este nuevo notebook el ESTUDIANTE 1 y ESTUDIANTE 2, deben realizar una presentación describiendo sus expectativas del curso y la transcipción de la Figura 1 y Figura 2 respectivamente, haciendo uso de la sintaxis Markdown. Recuerden definir unas celdas donde cada usuario modificará el cuaderno de python para evitar futuros conflictos.\n",
    "\n",
    "RECOMENDACIÓN:ANTES DE EMPEZAR A REALIZAR MUCHAS MODIFICACIONES DEL NOTEBOOK PRIMERO REALICEN CAMBIOS PEQUEÑOS EN EL ARCHIVO EN CONJUNTO Y VERIFIQUEN SI TANTO EL ESTUDIANTE 1 COMO EL ESTUDIANTE 2 RECIBEN LAS ACTUALIZACIONES QUE REALIZAN CADA UNO EN EL PROYECTO PARA VERIFICAR QUE EL REMOTE ESTUVO BIEN CONFIGURADO.\n",
    "\n",
    "Les recomiendo ver los siguientes enlaces para ver distintas funciones para escribir en markdown.\n",
    "\n",
    "Creador de tablas online\n",
    "Sintáxis markdown"
   ]
  },
  {
   "cell_type": "markdown",
   "metadata": {},
   "source": [
    "### Ejercicio 1: El ESTUDIANTE 1,realizará un programa que imprima la serie de fibonacci para sus primeros 100 términos en un array de python,usando la rama “master” del repositorio creado."
   ]
  },
  {
   "cell_type": "markdown",
   "metadata": {},
   "source": [
    "Código de solución estudiante 1"
   ]
  },
  {
   "cell_type": "code",
   "execution_count": 1,
   "metadata": {
    "ExecuteTime": {
     "end_time": "2024-01-29T06:33:51.847210500Z",
     "start_time": "2024-01-29T06:33:51.803371100Z"
    }
   },
   "outputs": [],
   "source": [
    "# Código de solución estudiante 1\n",
    "\n",
    "# Función para hacer la serie de Fibonacci\n",
    "def fibonacci(n):\n",
    "    # Inicializamos un array con los dos terminos de la serie\n",
    "    fib = [0, 1]\n",
    "    \n",
    "    # Calculamos los términos restantes de la serie de Fibonacci y los agregamos\n",
    "    for i in range(2, n):\n",
    "        fib.append(fib[i-1] + fib[i-2])\n",
    "    \n",
    "    # Regresamos el array con los primeros n términos de la serie de Fibonacci definidos por el estudiante\n",
    "    return fib"
   ]
  },
  {
   "cell_type": "code",
   "execution_count": 4,
   "metadata": {
    "ExecuteTime": {
     "end_time": "2024-01-29T06:37:15.463236300Z",
     "start_time": "2024-01-29T06:37:15.455044100Z"
    }
   },
   "outputs": [],
   "source": []
  },
  {
   "cell_type": "markdown",
   "metadata": {},
   "source": [
    "\n",
    "\\begin{document}\n",
    "\n",
    "\\begin{aligned}\n",
    "&\\begin{array}{|c|c|c|}\n",
    "\\hline \n",
    "i & x & f(x) \\\\\n",
    "\\hline \n",
    "0 & -1 & 0.3678 \\\\\n",
    "1 & \\textcolor{red}{-0.5} & \\textcolor{red}{0.7788} \\\\\n",
    "2 & \\textcolor{blue}{0} & \\textcolor{blue}{1} \\\\\n",
    "3 & \\textcolor{red}{0.5} & \\textcolor{red}{0.7788} \\\\\n",
    "4 & 1 & 0.3678 \\\\\n",
    "\\hline\n",
    "\\end{array}\\\\\n",
    "&\\text { Cuadro 1: Tabla de valores de } f(x)\n",
    "\\end{aligned}\n",
    "\n",
    "\\end{document}\n",
    "\n",
    "\n"
   ]
  },
  {
   "cell_type": "markdown",
   "metadata": {},
   "source": [
    "\n",
    "$$\\begin{aligned} \\int_{-1}^1 e^{-x^2} d x & \\approx \\frac{0,5}{3}[f(-1)+f(1)+4(\n",
    "\\textcolor{red}{f(-0,5)+f(0,5)}\n",
    ")+2 \\textcolor{blue}\n",
    "{f(0)}\n",
    "] \\\\ & \\approx \\frac{0,5}{3}[0,3678+0,3678+4(\n",
    "\\textcolor{red}{0,7788+0,7788})+2 \\cdot \n",
    "\\textcolor{blue}1] \\approx 1,4943\\end{aligned}$$\n",
    "\n"
   ]
  },
  {
   "cell_type": "markdown",
   "metadata": {},
   "source": [
    "A modo de verificación, se calculará por software, el valor del área para $n=100$, un valor mucho más elevado al que se utilizó anteriormente. Si lo calculado previamente es correcto, se esperaría que sea próximo al valor presentado a continuación para ser una buena aproximación.\n",
    "$$\n",
    "\\int_{-1}^1 e^{-x^2} d x \\approx 1,4936\n",
    "$$"
   ]
  },
  {
   "cell_type": "markdown",
   "metadata": {},
   "source": [
    "Código de solución estudiante 2"
   ]
  },
  {
   "cell_type": "markdown",
   "metadata": {},
   "source": [
    "### Respuesta planteada en el ejercicio usando (markdown)\n",
    " La respuesta es:"
   ]
  },
  {
   "cell_type": "markdown",
   "metadata": {},
   "source": [
    "Las espectativas que tengo es que en el curso podamos aprender y poner en practica todo lo que he visto en la carrera ya que esta al ser una de las ultimas materias de la carrera significa que pondre en practica todo lo que he visto hasta el momento."
   ]
  },
  {
   "cell_type": "markdown",
   "metadata": {},
   "source": [
    "| i        | 1   | 2   | 3   | 4   | 5 | 6 | 7  |\n",
    "|----------|-----|-----|-----|-----|---|---|----|\n",
    "|$$E_{i}(V)$$| 12  | 10  | 24  | 12  | - | - | -  |\n",
    "|$$r_{i}(Ω)$$| 0.1 | 0.5 | 0.2 | 0.5 | - | - | -  |\n",
    "|$$R_{i}(Ω)$$| 25  | 40  | 16  | 20  | 9 | 4 | 20 |"
   ]
  },
  {
   "cell_type": "markdown",
   "metadata": {},
   "source": [
    "<span style=\"color:#00BFFF\">Kemna y Vorst (1990)</span> muestran que las opciones asiáticas con media geométrica continua se pueden valuar con el mismo enfoque de las opciones plain vanilla; solo se deben cambiar los parámetros de volatilidad $\\sigma$ por $\\sigma_a$, y el costo de acarreo $b$ por $b_A$.\n",
    "\n",
    "De acuerdo con Kemna y Vorst, las fórmulas para valuar una opción de compra y una opción de venta son:\n",
    "$$\n",
    "\\begin{aligned}\n",
    "& c \\approx S_t e^{\\left(b_A-r\\right)(T-t)} \\Phi\\left(d_1\\right)-K e^{-r(T-t)} \\Phi\\left(d_2\\right), \\\\\n",
    "& p \\approx K e^{-r(T-t)} \\Phi\\left(-d_2\\right)-S_t e^{\\left(b_A-r\\right)(T-t)} \\Phi\\left(-d_1\\right) .\n",
    "\\end{aligned}\n",
    "$$\n",
    "con $d_1$ y $d_2$ dados por:\n",
    "$$\n",
    "\\begin{aligned}\n",
    "& d_1=\\frac{\\ln \\left(S_t / K\\right)+\\left(b_A+1 / 2 \\sigma_a^2\\right)(T-t)}{\\sigma \\sqrt{T-t}}, \\\\\n",
    "& d_2=d_1-\\sigma_a \\sqrt{T-t} .\n",
    "\\end{aligned}\n",
    "$$\n",
    "\n",
    "La función $\\Phi(d)$ es la función de distribución acumulada de $E \\sim \\mathcal{N}(0,1)$. La volatilidad ajustada es igual a:\n",
    "$$\n",
    "\\sigma_a=\\frac{\\sigma}{\\sqrt{3}},\n",
    "$$\n",
    "mientras que el costo de acarreo ajustado es:\n",
    "$$\n",
    "b_A=\\frac{1}{2}\\left(v-\\frac{\\sigma^2}{6}\\right)\n",
    "$$\n"
   ]
  },
  {
   "cell_type": "code",
   "execution_count": 2,
   "metadata": {},
   "outputs": [
    {
     "name": "stdout",
     "output_type": "stream",
     "text": [
      "[2, 3, 5, 7, 11, 13, 17, 19, 23, 29, 31, 37, 41, 43, 47, 53, 59, 61, 67, 71, 73, 79, 83, 89, 97]\n"
     ]
    }
   ],
   "source": [
    "# Código de solución estudiante 2\n",
    "def num_primo(num):\n",
    "    return num > 1 and all(num % i != 0 for i in range(2, int(num**0.5) + 1))\n",
    "\n",
    "primos = [num for num in range(101) if num_primo(num)]\n",
    "\n",
    "print(primos)\n"
   ]
  },
  {
   "cell_type": "code",
   "execution_count": null,
   "metadata": {},
   "outputs": [],
   "source": []
  }
 ],
 "metadata": {
  "kernelspec": {
   "display_name": "Python 3 (ipykernel)",
   "language": "python",
   "name": "python3"
  },
  "language_info": {
   "codemirror_mode": {
    "name": "ipython",
    "version": 3
   },
   "file_extension": ".py",
   "mimetype": "text/x-python",
   "name": "python",
   "nbconvert_exporter": "python",
   "pygments_lexer": "ipython3",
   "version": "3.9.12"
  }
 },
 "nbformat": 4,
 "nbformat_minor": 4
}
